{
 "cells": [
  {
   "cell_type": "markdown",
   "id": "b88e8fad",
   "metadata": {},
   "source": [
    "# LABORATORIO MACHINE LEARNING\n",
    "\n"
   ]
  },
  {
   "cell_type": "markdown",
   "id": "7355f697",
   "metadata": {},
   "source": [
    "\n",
    "* Ariel Maximiliano Leyton Cubillos\n",
    "\n",
    "### Introducción:\n",
    "\n",
    "En este laboratorio deberá ajustar un modelo utilizando el algoritmo Naive Bayes a la base MP3.zip\n",
    "encontrada junto con la tarea.\n",
    "Adicionalmente, deberan ajustar los algoritmos Naive Bayes, Análisis de discriminante y regresión logística a la base Wine\n",
    "anteriormente estudiada, y describir qué modelo realiza una mejor predicción.\n",
    "\n",
    "### Objetivos:\n",
    "1. Aplicar y ajustar el algortimo Naive Bayes a la base MP3.\n",
    "2. Aplicar y ajustar los algortimos Naive Bayes, Análisis de Discrimintante y Regresión Logística a la base Breast Cancer.\n",
    "3. Comparar los tres modelos resultantes y comparar cuál realiza una mejor predicción."
   ]
  },
  {
   "cell_type": "markdown",
   "id": "d7b935fe",
   "metadata": {},
   "source": [
    "# 1. Ajuste Naive Bayes a base MP3\n",
    "\n",
    "Este análisis se trata de un modelo de machine learning basado en el Teorema de Bayes que entrega la probabilidad de que ocurra A dado que B ha ocurrido.\n",
    "\n",
    "P(y|X) = (P(X|y)P(y)) / P(X)\n",
    "\n",
    "Recibe el nombre de \"naive\", porque asume que la presencia de una característica en particular no afecta la presencia de otras (independencia condicional de los predictores). El modelo también asume que los predictores X tienen el mismo efecto en el resultado.\n",
    "\n",
    "El valor que asume Y en la predicción es donde se maximiza la probabilidad P(y|X)"
   ]
  },
  {
   "cell_type": "code",
   "execution_count": 68,
   "id": "7bc94dbf",
   "metadata": {},
   "outputs": [],
   "source": [
    "import pandas as pd\n",
    "import seaborn as sns; sns.set()\n",
    "import matplotlib.pyplot as plt\n",
    "from sklearn.naive_bayes import GaussianNB\n",
    "from sklearn.metrics import confusion_matrix\n",
    "from sklearn.model_selection import cross_val_score\n",
    "from sklearn.metrics import accuracy_score, recall_score, precision_score\n",
    "from sklearn.metrics import f1_score\n",
    "import os\n",
    "from sklearn.feature_extraction.text import TfidfVectorizer\n",
    "from sklearn.naive_bayes import MultinomialNB\n",
    "from sklearn.pipeline import make_pipeline\n",
    "from sklearn.feature_extraction.text import CountVectorizer\n",
    "from sklearn.metrics import classification_report\n",
    "from sklearn.metrics import roc_curve, auc\n",
    "from sklearn.discriminant_analysis import LinearDiscriminantAnalysis\n",
    "from sklearn.model_selection import train_test_split\n",
    "from sklearn.model_selection import GridSearchCV"
   ]
  },
  {
   "cell_type": "markdown",
   "id": "11860a9b",
   "metadata": {},
   "source": [
    "Cargamos la base a partir del directorio descargado:"
   ]
  },
  {
   "cell_type": "code",
   "execution_count": 11,
   "id": "105dbfc9",
   "metadata": {},
   "outputs": [],
   "source": [
    "def load_data_from_directory(dir_path):\n",
    "    texts, labels = [], []\n",
    "    for sentiment in ['neg', 'pos']:\n",
    "        sentiment_dir = os.path.join(dir_path, sentiment)\n",
    "        for file_name in os.listdir(sentiment_dir):\n",
    "            if file_name != '.DS_Store':\n",
    "                with open(os.path.join(sentiment_dir, file_name), 'r', encoding='utf-8', errors='ignore') as file:\n",
    "                    texts.append(file.read())\n",
    "                    labels.append(1 if sentiment == 'pos' else 0)\n",
    "    return texts, labels\n",
    "\n",
    "dir_path = 'E:/STUDY/3. DIPLOMADO DATA SCIENCE UDD/SEGUNDO TRIMESTRE/2 MACHINE LEARNING/TALLERES/TALLER 2/MP3_data/MP3_data_zip'\n",
    "train_texts, train_labels = load_data_from_directory(os.path.join(dir_path, 'train'))\n",
    "test_texts, test_labels = load_data_from_directory(os.path.join(dir_path, 'dev'))"
   ]
  },
  {
   "cell_type": "markdown",
   "id": "fe894bc1",
   "metadata": {},
   "source": [
    "Revisamos el primer dato del dataset para verificar el tipo con el que estamos trabajando.  Dicho esto, pareciera ser un caso de análisis de sentimiento.\n",
    "Adicionalmene, podemos inferir por el texto que se trata de una crítica negativa por lo que debiese tener un número **0** (0 = negativo y 1 = positivo)."
   ]
  },
  {
   "cell_type": "code",
   "execution_count": 14,
   "id": "fb181f2d",
   "metadata": {},
   "outputs": [
    {
     "data": {
      "text/plain": [
       "\"First of all I hate those moronic rappers, who could'nt act if they had a gun pressed against their foreheads. All they do is curse and shoot each other and acting like cliché'e version of gangsters.<br /><br />The movie doesn't take more than five minutes to explain what is going on before we're already at the warehouse There is not a single sympathetic character in this movie, except for the homeless guy, who is also the only one with half a brain.<br /><br />Bill Paxton and William Sadler are both hill billies and Sadlers character is just as much a villain as the gangsters. I did'nt like him right from the start.<br /><br />The movie is filled with pointless violence and Walter Hills specialty: people falling through windows with glass flying everywhere. There is pretty much no plot and it is a big problem when you root for no-one. Everybody dies, except from Paxton and the homeless guy and everybody get what they deserve.<br /><br />The only two black people that can act is the homeless guy and the junkie but they're actors by profession, not annoying ugly brain dead rappers.<br /><br />Stay away from this crap and watch 48 hours 1 and 2 instead. At lest they have characters you care about, a sense of humor and nothing but real actors in the cast.\""
      ]
     },
     "execution_count": 14,
     "metadata": {},
     "output_type": "execute_result"
    }
   ],
   "source": [
    "primer_dato = train_texts[0]\n",
    "primer_dato"
   ]
  },
  {
   "cell_type": "markdown",
   "id": "a04580a7",
   "metadata": {},
   "source": [
    "Revisamos que efectivamente cuente con ese número:"
   ]
  },
  {
   "cell_type": "code",
   "execution_count": 16,
   "id": "ec326883",
   "metadata": {},
   "outputs": [
    {
     "data": {
      "text/plain": [
       "0"
      ]
     },
     "execution_count": 16,
     "metadata": {},
     "output_type": "execute_result"
    }
   ],
   "source": [
    "primer_label = train_labels[0]\n",
    "primer_label"
   ]
  },
  {
   "cell_type": "markdown",
   "id": "090d177c",
   "metadata": {},
   "source": [
    "Cargados los datos y hecha la revisión correspondiente, podemos entrenar el modelo con los datos de train."
   ]
  },
  {
   "cell_type": "code",
   "execution_count": 64,
   "id": "e5f2c88c",
   "metadata": {},
   "outputs": [
    {
     "data": {
      "text/html": [
       "<style>#sk-container-id-3 {color: black;}#sk-container-id-3 pre{padding: 0;}#sk-container-id-3 div.sk-toggleable {background-color: white;}#sk-container-id-3 label.sk-toggleable__label {cursor: pointer;display: block;width: 100%;margin-bottom: 0;padding: 0.3em;box-sizing: border-box;text-align: center;}#sk-container-id-3 label.sk-toggleable__label-arrow:before {content: \"▸\";float: left;margin-right: 0.25em;color: #696969;}#sk-container-id-3 label.sk-toggleable__label-arrow:hover:before {color: black;}#sk-container-id-3 div.sk-estimator:hover label.sk-toggleable__label-arrow:before {color: black;}#sk-container-id-3 div.sk-toggleable__content {max-height: 0;max-width: 0;overflow: hidden;text-align: left;background-color: #f0f8ff;}#sk-container-id-3 div.sk-toggleable__content pre {margin: 0.2em;color: black;border-radius: 0.25em;background-color: #f0f8ff;}#sk-container-id-3 input.sk-toggleable__control:checked~div.sk-toggleable__content {max-height: 200px;max-width: 100%;overflow: auto;}#sk-container-id-3 input.sk-toggleable__control:checked~label.sk-toggleable__label-arrow:before {content: \"▾\";}#sk-container-id-3 div.sk-estimator input.sk-toggleable__control:checked~label.sk-toggleable__label {background-color: #d4ebff;}#sk-container-id-3 div.sk-label input.sk-toggleable__control:checked~label.sk-toggleable__label {background-color: #d4ebff;}#sk-container-id-3 input.sk-hidden--visually {border: 0;clip: rect(1px 1px 1px 1px);clip: rect(1px, 1px, 1px, 1px);height: 1px;margin: -1px;overflow: hidden;padding: 0;position: absolute;width: 1px;}#sk-container-id-3 div.sk-estimator {font-family: monospace;background-color: #f0f8ff;border: 1px dotted black;border-radius: 0.25em;box-sizing: border-box;margin-bottom: 0.5em;}#sk-container-id-3 div.sk-estimator:hover {background-color: #d4ebff;}#sk-container-id-3 div.sk-parallel-item::after {content: \"\";width: 100%;border-bottom: 1px solid gray;flex-grow: 1;}#sk-container-id-3 div.sk-label:hover label.sk-toggleable__label {background-color: #d4ebff;}#sk-container-id-3 div.sk-serial::before {content: \"\";position: absolute;border-left: 1px solid gray;box-sizing: border-box;top: 0;bottom: 0;left: 50%;z-index: 0;}#sk-container-id-3 div.sk-serial {display: flex;flex-direction: column;align-items: center;background-color: white;padding-right: 0.2em;padding-left: 0.2em;position: relative;}#sk-container-id-3 div.sk-item {position: relative;z-index: 1;}#sk-container-id-3 div.sk-parallel {display: flex;align-items: stretch;justify-content: center;background-color: white;position: relative;}#sk-container-id-3 div.sk-item::before, #sk-container-id-3 div.sk-parallel-item::before {content: \"\";position: absolute;border-left: 1px solid gray;box-sizing: border-box;top: 0;bottom: 0;left: 50%;z-index: -1;}#sk-container-id-3 div.sk-parallel-item {display: flex;flex-direction: column;z-index: 1;position: relative;background-color: white;}#sk-container-id-3 div.sk-parallel-item:first-child::after {align-self: flex-end;width: 50%;}#sk-container-id-3 div.sk-parallel-item:last-child::after {align-self: flex-start;width: 50%;}#sk-container-id-3 div.sk-parallel-item:only-child::after {width: 0;}#sk-container-id-3 div.sk-dashed-wrapped {border: 1px dashed gray;margin: 0 0.4em 0.5em 0.4em;box-sizing: border-box;padding-bottom: 0.4em;background-color: white;}#sk-container-id-3 div.sk-label label {font-family: monospace;font-weight: bold;display: inline-block;line-height: 1.2em;}#sk-container-id-3 div.sk-label-container {text-align: center;}#sk-container-id-3 div.sk-container {/* jupyter's `normalize.less` sets `[hidden] { display: none; }` but bootstrap.min.css set `[hidden] { display: none !important; }` so we also need the `!important` here to be able to override the default hidden behavior on the sphinx rendered scikit-learn.org. See: https://github.com/scikit-learn/scikit-learn/issues/21755 */display: inline-block !important;position: relative;}#sk-container-id-3 div.sk-text-repr-fallback {display: none;}</style><div id=\"sk-container-id-3\" class=\"sk-top-container\"><div class=\"sk-text-repr-fallback\"><pre>Pipeline(steps=[(&#x27;countvectorizer&#x27;, CountVectorizer()),\n",
       "                (&#x27;multinomialnb&#x27;, MultinomialNB())])</pre><b>In a Jupyter environment, please rerun this cell to show the HTML representation or trust the notebook. <br />On GitHub, the HTML representation is unable to render, please try loading this page with nbviewer.org.</b></div><div class=\"sk-container\" hidden><div class=\"sk-item sk-dashed-wrapped\"><div class=\"sk-label-container\"><div class=\"sk-label sk-toggleable\"><input class=\"sk-toggleable__control sk-hidden--visually\" id=\"sk-estimator-id-7\" type=\"checkbox\" ><label for=\"sk-estimator-id-7\" class=\"sk-toggleable__label sk-toggleable__label-arrow\">Pipeline</label><div class=\"sk-toggleable__content\"><pre>Pipeline(steps=[(&#x27;countvectorizer&#x27;, CountVectorizer()),\n",
       "                (&#x27;multinomialnb&#x27;, MultinomialNB())])</pre></div></div></div><div class=\"sk-serial\"><div class=\"sk-item\"><div class=\"sk-estimator sk-toggleable\"><input class=\"sk-toggleable__control sk-hidden--visually\" id=\"sk-estimator-id-8\" type=\"checkbox\" ><label for=\"sk-estimator-id-8\" class=\"sk-toggleable__label sk-toggleable__label-arrow\">CountVectorizer</label><div class=\"sk-toggleable__content\"><pre>CountVectorizer()</pre></div></div></div><div class=\"sk-item\"><div class=\"sk-estimator sk-toggleable\"><input class=\"sk-toggleable__control sk-hidden--visually\" id=\"sk-estimator-id-9\" type=\"checkbox\" ><label for=\"sk-estimator-id-9\" class=\"sk-toggleable__label sk-toggleable__label-arrow\">MultinomialNB</label><div class=\"sk-toggleable__content\"><pre>MultinomialNB()</pre></div></div></div></div></div></div></div>"
      ],
      "text/plain": [
       "Pipeline(steps=[('countvectorizer', CountVectorizer()),\n",
       "                ('multinomialnb', MultinomialNB())])"
      ]
     },
     "execution_count": 64,
     "metadata": {},
     "output_type": "execute_result"
    }
   ],
   "source": [
    "nbayes = make_pipeline(CountVectorizer(), MultinomialNB())\n",
    "nbayes.fit(train_texts, train_labels)"
   ]
  },
  {
   "cell_type": "markdown",
   "id": "dcac55c1",
   "metadata": {},
   "source": [
    "Una buena práctica dentro del ámbito de la ciencia de datos es evaluar el modelo en los mismos datos de entrenamiento para revisar su calidad y luego probar con los datos de prueba para comparar.\n",
    "\n",
    "#### Prueba en Train:"
   ]
  },
  {
   "cell_type": "code",
   "execution_count": 65,
   "id": "1fa8df37",
   "metadata": {},
   "outputs": [],
   "source": [
    "y_pred_train = nbayes.predict(train_texts)"
   ]
  },
  {
   "cell_type": "code",
   "execution_count": 66,
   "id": "17b7ce4e",
   "metadata": {},
   "outputs": [
    {
     "data": {
      "text/plain": [
       "0.96325"
      ]
     },
     "execution_count": 66,
     "metadata": {},
     "output_type": "execute_result"
    }
   ],
   "source": [
    "accuracy_score(train_labels, y_pred_train)"
   ]
  },
  {
   "cell_type": "code",
   "execution_count": 69,
   "id": "d981178a",
   "metadata": {},
   "outputs": [
    {
     "data": {
      "text/plain": [
       "array([[1896,  104],\n",
       "       [ 190, 5810]], dtype=int64)"
      ]
     },
     "execution_count": 69,
     "metadata": {},
     "output_type": "execute_result"
    }
   ],
   "source": [
    "confusion_mat_train = confusion_matrix(train_labels, y_pred_train)\n",
    "confusion_mat_train"
   ]
  },
  {
   "cell_type": "code",
   "execution_count": 67,
   "id": "09de83be",
   "metadata": {},
   "outputs": [
    {
     "name": "stdout",
     "output_type": "stream",
     "text": [
      "              precision    recall  f1-score   support\n",
      "\n",
      "           0       0.91      0.95      0.93      2000\n",
      "           1       0.98      0.97      0.98      6000\n",
      "\n",
      "    accuracy                           0.96      8000\n",
      "   macro avg       0.95      0.96      0.95      8000\n",
      "weighted avg       0.96      0.96      0.96      8000\n",
      "\n"
     ]
    }
   ],
   "source": [
    "reporttrain = classification_report(train_labels, y_pred_train)\n",
    "\n",
    "print(reporttrain)"
   ]
  },
  {
   "cell_type": "markdown",
   "id": "a1b1f0ab",
   "metadata": {},
   "source": [
    "#### Prueba en Test:"
   ]
  },
  {
   "cell_type": "code",
   "execution_count": 42,
   "id": "6e8ea59a",
   "metadata": {},
   "outputs": [],
   "source": [
    "y_pred_test = nbayes.predict(test_texts)"
   ]
  },
  {
   "cell_type": "code",
   "execution_count": 43,
   "id": "6b024536",
   "metadata": {},
   "outputs": [
    {
     "data": {
      "text/plain": [
       "0.8948"
      ]
     },
     "execution_count": 43,
     "metadata": {},
     "output_type": "execute_result"
    }
   ],
   "source": [
    "accuracy_score(test_labels, y_pred_test)"
   ]
  },
  {
   "cell_type": "markdown",
   "id": "760102a7",
   "metadata": {},
   "source": [
    "La precisión es una de las medidas más importantes.  con un **89,48%** el modelo parece tener un buen rendimiento."
   ]
  },
  {
   "cell_type": "code",
   "execution_count": 71,
   "id": "d74d459d",
   "metadata": {},
   "outputs": [
    {
     "data": {
      "text/plain": [
       "0.934690836851254"
      ]
     },
     "execution_count": 71,
     "metadata": {},
     "output_type": "execute_result"
    }
   ],
   "source": [
    "f1_score(test_labels, y_pred_test)"
   ]
  },
  {
   "cell_type": "code",
   "execution_count": 72,
   "id": "f2f54181",
   "metadata": {},
   "outputs": [
    {
     "data": {
      "text/plain": [
       "0.941"
      ]
     },
     "execution_count": 72,
     "metadata": {},
     "output_type": "execute_result"
    }
   ],
   "source": [
    "recall_score(test_labels, y_pred_test)"
   ]
  },
  {
   "cell_type": "markdown",
   "id": "146f7f20",
   "metadata": {},
   "source": [
    "El recall mide la proporción de casos positivos que fueron correctamente identificados por el modelo con respecto a todos los casos positivos reales en el conjunto de datos. Dicho esto, un porcentaje de **94.1%** es un resultado bastante bueno para el modelo evaluado."
   ]
  },
  {
   "cell_type": "code",
   "execution_count": 44,
   "id": "ee2cfce8",
   "metadata": {},
   "outputs": [
    {
     "name": "stdout",
     "output_type": "stream",
     "text": [
      "              precision    recall  f1-score   support\n",
      "\n",
      "           0       0.75      0.71      0.73      1000\n",
      "           1       0.93      0.94      0.93      4000\n",
      "\n",
      "    accuracy                           0.89      5000\n",
      "   macro avg       0.84      0.83      0.83      5000\n",
      "weighted avg       0.89      0.89      0.89      5000\n",
      "\n"
     ]
    }
   ],
   "source": [
    "reporttest = classification_report(test_labels, y_pred_test)\n",
    "\n",
    "print(reporttest)"
   ]
  },
  {
   "cell_type": "code",
   "execution_count": 45,
   "id": "f4e23a13",
   "metadata": {},
   "outputs": [
    {
     "data": {
      "text/plain": [
       "array([[ 710,  290],\n",
       "       [ 236, 3764]], dtype=int64)"
      ]
     },
     "execution_count": 45,
     "metadata": {},
     "output_type": "execute_result"
    }
   ],
   "source": [
    "confusion_mat_test = confusion_matrix(test_labels, y_pred_test)\n",
    "confusion_mat_test"
   ]
  },
  {
   "cell_type": "code",
   "execution_count": 62,
   "id": "ae5b4e04",
   "metadata": {},
   "outputs": [
    {
     "data": {
      "image/png": "[encoded data removed]",
      "text/plain": [
       "<Figure size 640x480 with 1 Axes>"
      ]
     },
     "metadata": {},
     "output_type": "display_data"
    }
   ],
   "source": [
    "fpr, tpr, _ = roc_curve(test_labels, nbayes.predict_proba(test_texts)[:, 1])\n",
    "roc_auc = auc(fpr, tpr)\n",
    "\n",
    "# Plotear la curva ROC\n",
    "plt.figure()\n",
    "plt.plot(fpr, tpr, color='#377AE6', lw=2, label='Curva ROC (área = %0.2f)' % roc_auc)\n",
    "plt.plot([0, 1], [0, 1], color='navy', lw=2, linestyle='--')\n",
    "plt.xlim([0.0, 1.0])\n",
    "plt.ylim([0.0, 1.05])\n",
    "plt.xlabel('Tasa de Falsos Positivos')\n",
    "plt.ylabel('Tasa de Verdaderos Positivos')\n",
    "plt.title('Curva ROC datos testeo')\n",
    "plt.legend(loc=\"lower right\")\n",
    "plt.show()"
   ]
  },
  {
   "cell_type": "code",
   "execution_count": 70,
   "id": "25e9ccaa",
   "metadata": {},
   "outputs": [
    {
     "name": "stdout",
     "output_type": "stream",
     "text": [
      "0.96325\n",
      "0.8948\n"
     ]
    }
   ],
   "source": [
    "accuracytrain = accuracy_score(train_labels, y_pred_train)\n",
    "accuracytest = accuracy_score(test_labels, y_pred_test)\n",
    "\n",
    "print(accuracytrain)\n",
    "print(accuracytest)"
   ]
  },
  {
   "cell_type": "markdown",
   "id": "aa1fe381",
   "metadata": {},
   "source": [
    "Analizadas las diferentes métricas de evaluación del modelo, podemos inferir que aún puede mejorar.  A continuación un resumen de las métricas:\n",
    "\n",
    "- **Accuracy:** 89,48%\n",
    "- **F1 Score:** 93,46%\n",
    "- **Recall:** 94,10%\n",
    "- **Matriz de confusión:**  TP (3764), FP (290), TN (710), FN (236)\n",
    "- **Curva ROC:** 0,91"
   ]
  },
  {
   "cell_type": "markdown",
   "id": "c60e5bb5",
   "metadata": {},
   "source": [
    "## Fine-Tuning:\n",
    "\n",
    "Puesto que conocemos las posibilidades de mejora de nuestro modelo, lo siguiente es iterar sobre las diferentes opciones para afinarlo.  Para ello ocuparemos Grid Search con el objetivo de encontrar la mejor combinación de hiperparámetros asociados a NaiveBayes:\n",
    "\n",
    "- Vectorizador\n",
    "- Valor alpha\n",
    "\n"
   ]
  },
  {
   "cell_type": "code",
   "execution_count": 50,
   "id": "fa57ea97",
   "metadata": {},
   "outputs": [
    {
     "name": "stdout",
     "output_type": "stream",
     "text": [
      "0.9068\n"
     ]
    }
   ],
   "source": [
    "param_grid = {\n",
    "    'countvectorizer__ngram_range': [(1, 1), (1, 2), (1, 3)],  # Ejemplo de hiperparámetro para CountVectorizer\n",
    "    'multinomialnb__alpha': [0.1, 1.0, 10.0]  # Ejemplo de hiperparámetro para MultinomialNB\n",
    "}\n",
    "\n",
    "# Crea el objeto GridSearchCV\n",
    "grid_search = GridSearchCV(nbayes, param_grid, cv=5, scoring='accuracy')\n",
    "\n",
    "# Entrena el modelo\n",
    "grid_search.fit(train_texts, train_labels)\n",
    "\n",
    "# Obtiene los mejores parámetros y el mejor estimador\n",
    "best_params = grid_search.best_params_\n",
    "best_estimator = grid_search.best_estimator_\n",
    "\n",
    "# Evalúa el modelo en el conjunto de prueba\n",
    "accuracyft = grid_search.score(test_texts, test_labels)\n",
    "print(accuracyft)"
   ]
  },
  {
   "cell_type": "markdown",
   "id": "bc5fde5c",
   "metadata": {},
   "source": [
    "Afinado el modelo, obtuvimos una precisión del **90,68%** lo que evidencia una mejora.  A pesar de ello, se revisará cada métrica para poder hacer una comparación final."
   ]
  },
  {
   "cell_type": "code",
   "execution_count": 52,
   "id": "e8276342",
   "metadata": {},
   "outputs": [
    {
     "name": "stdout",
     "output_type": "stream",
     "text": [
      "{'countvectorizer__ngram_range': (1, 2), 'multinomialnb__alpha': 0.1}\n"
     ]
    }
   ],
   "source": [
    "best_params = grid_search.best_params_\n",
    "print(best_params)"
   ]
  },
  {
   "cell_type": "markdown",
   "id": "e4243373",
   "metadata": {},
   "source": [
    "Los hiperparámetros seleccionados para poder afinar el modelo fueron los siguientes:\n",
    "\n",
    "**countvectorizer:**  Donde (1, 2) significa que se extraerán tanto unigramas como bigramas del texto. Esto significa que el modelo considerará tanto las palabras individuales como las combinaciones de dos palabras consecutivas.\n",
    "\n",
    "**alpha:**  Que representa al suavizado de Laplace para evitar problemas de probabilidad cero en el modelo. Un valor de 0.1 indica que se está aplicando un suavizado ligero.  Este valor es ideal puesto que uno más alto podría sesgar el resultado."
   ]
  },
  {
   "cell_type": "code",
   "execution_count": 57,
   "id": "ab1c6a72",
   "metadata": {},
   "outputs": [],
   "source": [
    "y_pred_ft = grid_search.predict(test_texts)"
   ]
  },
  {
   "cell_type": "code",
   "execution_count": 84,
   "id": "36ebe7e4",
   "metadata": {},
   "outputs": [
    {
     "data": {
      "text/plain": [
       "0.9434053922759291"
      ]
     },
     "execution_count": 84,
     "metadata": {},
     "output_type": "execute_result"
    }
   ],
   "source": [
    "f1_score(test_labels, y_pred_ft)"
   ]
  },
  {
   "cell_type": "code",
   "execution_count": 85,
   "id": "e2712827",
   "metadata": {},
   "outputs": [
    {
     "data": {
      "text/plain": [
       "0.971"
      ]
     },
     "execution_count": 85,
     "metadata": {},
     "output_type": "execute_result"
    }
   ],
   "source": [
    "recall_score(test_labels, y_pred_ft)"
   ]
  },
  {
   "cell_type": "code",
   "execution_count": 60,
   "id": "197108cb",
   "metadata": {},
   "outputs": [
    {
     "name": "stdout",
     "output_type": "stream",
     "text": [
      "              precision    recall  f1-score   support\n",
      "\n",
      "           0       0.85      0.65      0.74      1000\n",
      "           1       0.92      0.97      0.94      4000\n",
      "\n",
      "    accuracy                           0.91      5000\n",
      "   macro avg       0.88      0.81      0.84      5000\n",
      "weighted avg       0.90      0.91      0.90      5000\n",
      "\n"
     ]
    }
   ],
   "source": [
    "reportft= classification_report(test_labels, y_pred_ft)\n",
    "\n",
    "print(reportft)"
   ]
  },
  {
   "cell_type": "code",
   "execution_count": 73,
   "id": "0472ed0f",
   "metadata": {},
   "outputs": [
    {
     "data": {
      "image/png": "[encoded data removed]",
      "text/plain": [
       "<Figure size 640x480 with 1 Axes>"
      ]
     },
     "metadata": {},
     "output_type": "display_data"
    }
   ],
   "source": [
    "y_scoresft = grid_search.predict_proba(test_texts)[:, 1]\n",
    "\n",
    "# Calcula la tasa de verdaderos positivos (TPR), la tasa de falsos positivos (FPR) y los umbrales\n",
    "fpr, tpr, thresholds = roc_curve(test_labels, y_scoresft)\n",
    "\n",
    "# Calcula el área bajo la curva ROC (AUC)\n",
    "roc_auc = auc(fpr, tpr)\n",
    "\n",
    "# Grafica la curva ROC\n",
    "plt.figure()\n",
    "plt.plot(fpr, tpr, color='#37E66C', lw=2, label='ROC curve (area = %0.2f)' % roc_auc)\n",
    "plt.plot([0, 1], [0, 1], color='navy', lw=2, linestyle='--')\n",
    "plt.xlabel('False Positive Rate')\n",
    "plt.ylabel('True Positive Rate')\n",
    "plt.title('ROC modelo con FineTuning')\n",
    "plt.legend(loc=\"lower right\")\n",
    "plt.show()"
   ]
  },
  {
   "cell_type": "markdown",
   "id": "90de4f81",
   "metadata": {},
   "source": [
    "#### Métricas modelo nuevo:\n",
    "\n",
    "- **Accuracy:** 90,68%\n",
    "- **F1 Score:** 94,34%\n",
    "- **Recall:** 97,10%\n",
    "- **Matriz de confusión:** TP (3884), FP (350), TN (650), FN (116)\n",
    "- **Curva ROC:** 0,89"
   ]
  },
  {
   "cell_type": "markdown",
   "id": "5ea8d4b6",
   "metadata": {},
   "source": [
    "### Comparación de modelos (Antiguo vs Nuevo):\n",
    "\n",
    "Se evaluarán ambos modelos en términos de:\n",
    "\n",
    "- Accuracy\n",
    "- Recall\n",
    "- F1\n",
    "- Matriz de confusión\n",
    "- Curvas ROC"
   ]
  },
  {
   "cell_type": "code",
   "execution_count": 76,
   "id": "82a3aa43",
   "metadata": {},
   "outputs": [
    {
     "name": "stdout",
     "output_type": "stream",
     "text": [
      "0.8948\n",
      "0.9068\n"
     ]
    }
   ],
   "source": [
    "print(accuracytest) #Modelo antiguo\n",
    "print(accuracyft) #Modelo nuevo"
   ]
  },
  {
   "cell_type": "code",
   "execution_count": 78,
   "id": "2f7c7d30",
   "metadata": {},
   "outputs": [
    {
     "name": "stdout",
     "output_type": "stream",
     "text": [
      "0.941\n",
      "0.971\n"
     ]
    }
   ],
   "source": [
    "recalltest = recall_score(test_labels, y_pred_test)\n",
    "recallft = recall_score(test_labels, y_pred_ft)\n",
    "\n",
    "print(recalltest)\n",
    "print(recallft)"
   ]
  },
  {
   "cell_type": "code",
   "execution_count": 79,
   "id": "37fbd8af",
   "metadata": {},
   "outputs": [
    {
     "name": "stdout",
     "output_type": "stream",
     "text": [
      "0.934690836851254\n",
      "0.9434053922759291\n"
     ]
    }
   ],
   "source": [
    "f1test = f1_score(test_labels, y_pred_test)\n",
    "f1ft = f1_score(test_labels, y_pred_ft)\n",
    "\n",
    "print(f1test)\n",
    "print(f1ft)"
   ]
  },
  {
   "cell_type": "code",
   "execution_count": 80,
   "id": "69b83778",
   "metadata": {},
   "outputs": [
    {
     "data": {
      "text/plain": [
       "array([[ 710,  290],\n",
       "       [ 236, 3764]], dtype=int64)"
      ]
     },
     "execution_count": 80,
     "metadata": {},
     "output_type": "execute_result"
    }
   ],
   "source": [
    "confusion_mat_test = confusion_matrix(test_labels, y_pred_test)\n",
    "confusion_mat_test"
   ]
  },
  {
   "cell_type": "code",
   "execution_count": 81,
   "id": "4c59d03a",
   "metadata": {},
   "outputs": [
    {
     "data": {
      "text/plain": [
       "array([[ 650,  350],\n",
       "       [ 116, 3884]], dtype=int64)"
      ]
     },
     "execution_count": 81,
     "metadata": {},
     "output_type": "execute_result"
    }
   ],
   "source": [
    "confusion_mat_ft = confusion_matrix(test_labels, y_pred_ft)\n",
    "confusion_mat_ft"
   ]
  },
  {
   "cell_type": "markdown",
   "id": "af6dbe2e",
   "metadata": {},
   "source": [
    "Revisamos nuevamente la matriz, sin embargo, esta vez se utilizá un \"heatmap\" para visualizar mejor:"
   ]
  },
  {
   "cell_type": "code",
   "execution_count": 83,
   "id": "55cd18bb",
   "metadata": {},
   "outputs": [
    {
     "data": {
      "image/png": "[encoded data removed]",
      "text/plain": [
       "<Figure size 800x600 with 1 Axes>"
      ]
     },
     "metadata": {},
     "output_type": "display_data"
    }
   ],
   "source": [
    "confusion_mat_ft = confusion_matrix(test_labels, y_pred_ft)\n",
    "\n",
    "# Crea el mapa de calor para visualizar la matriz de confusión\n",
    "plt.figure(figsize=(8, 6))\n",
    "sns.heatmap(confusion_mat_ft, annot=True, fmt='d', cmap='Blues', cbar=False,\n",
    "            xticklabels=['Clase Negativa', 'Clase Positiva'], \n",
    "            yticklabels=['Clase Negativa', 'Clase Positiva'])\n",
    "plt.xlabel('Predicciones')\n",
    "plt.ylabel('Valores Reales')\n",
    "plt.title('Matriz de Confusión')\n",
    "plt.show()"
   ]
  },
  {
   "cell_type": "markdown",
   "id": "14c54c8a",
   "metadata": {},
   "source": [
    "Finalmente, comparamos ambas curvas ROC para ver cual se acerca más a 1 y se aleja de la línea central:"
   ]
  },
  {
   "cell_type": "code",
   "execution_count": 63,
   "id": "b0f9e72d",
   "metadata": {},
   "outputs": [
    {
     "data": {
      "image/png": "[encoded data removed]",
      "text/plain": [
       "<Figure size 640x480 with 1 Axes>"
      ]
     },
     "metadata": {},
     "output_type": "display_data"
    }
   ],
   "source": [
    "# Obtén las probabilidades de predicción para el modelo antiguo\n",
    "y_scores_old = nbayes.predict_proba(test_texts)[:, 1]\n",
    "\n",
    "# Calcula la tasa de verdaderos positivos (TPR) y la tasa de falsos positivos (FPR) para el modelo antiguo\n",
    "fpr_old, tpr_old, _ = roc_curve(test_labels, y_scores_old)\n",
    "\n",
    "# Calcula el área bajo la curva ROC (AUC) para el modelo antiguo\n",
    "roc_auc_old = auc(fpr_old, tpr_old)\n",
    "\n",
    "# Grafica ambas curvas ROC en un solo gráfico\n",
    "plt.figure()\n",
    "plt.plot(fpr_old, tpr_old, color='#377AE6', lw=2, label='Curva ROC Modelo Antiguo (área = %0.2f)' % roc_auc_old)\n",
    "\n",
    "# Obtén las probabilidades de predicción para el modelo con Fine-Tuning\n",
    "y_scores_ft = grid_search.predict_proba(test_texts)[:, 1]\n",
    "\n",
    "# Calcula la tasa de verdaderos positivos (TPR) y la tasa de falsos positivos (FPR) para el modelo con Fine-Tuning\n",
    "fpr_ft, tpr_ft, _ = roc_curve(test_labels, y_scores_ft)\n",
    "\n",
    "# Calcula el área bajo la curva ROC (AUC) para el modelo con Fine-Tuning\n",
    "roc_auc_ft = auc(fpr_ft, tpr_ft)\n",
    "\n",
    "# Grafica la curva ROC para el modelo con Fine-Tuning\n",
    "plt.plot(fpr_ft, tpr_ft, color='#37E66C', lw=2, label='Curva ROC Modelo con Fine-Tuning (área = %0.2f)' % roc_auc_ft)\n",
    "\n",
    "# Configura la visualización del gráfico\n",
    "plt.plot([0, 1], [0, 1], color='navy', lw=2, linestyle='--')\n",
    "plt.xlim([0.0, 1.0])\n",
    "plt.ylim([0.0, 1.05])\n",
    "plt.xlabel('Tasa de Falsos Positivos')\n",
    "plt.ylabel('Tasa de Verdaderos Positivos')\n",
    "plt.title('Comparación de Curvas ROC')\n",
    "plt.legend(loc=\"lower right\")\n",
    "plt.show()\n"
   ]
  },
  {
   "cell_type": "markdown",
   "id": "1a51b5a6",
   "metadata": {},
   "source": [
    "### Conclusión 1:"
   ]
  },
  {
   "cell_type": "markdown",
   "id": "b77ba4ea",
   "metadata": {},
   "source": [
    "Después de comparar el modelo sin ajustes con el modelo afinado, podemos concluir que el último demuestra un mejor rendimiento en todas las métricas evaluadas (Accuracy, F1, Recall y Matriz de confusión), excepto en el caso de la Curva ROC. Sin embargo, la discrepancia en la Curva ROC no indica una reducción significativa en el rendimiento y puede ser atribuida a la sensibilidad de esta métrica ante la forma en que el modelo clasifica casos cercanos al umbral de decisión.\n",
    "\n",
    "En última instancia, hemos seleccionado el nuevo modelo como el modelo final debido a la mejora notable que presenta."
   ]
  },
  {
   "cell_type": "markdown",
   "id": "f309c694",
   "metadata": {},
   "source": [
    "# 2. Comparación de algoritmos\n",
    "\n",
    "En este apartado se realizará la comparación de algoritmos:\n",
    "\n",
    "* Naive Bayes\n",
    "* Análisis de discriminante\n",
    "* Regresión Logística\n",
    "\n",
    "Para ello, cargaremos el dataser \"**breast_cancer**\" de sickitlearn y los distintos algoritmos mencionados:"
   ]
  },
  {
   "cell_type": "code",
   "execution_count": 42,
   "id": "1773e34a",
   "metadata": {},
   "outputs": [],
   "source": [
    "from sklearn.datasets import load_breast_cancer\n",
    "from sklearn.model_selection import train_test_split\n",
    "from sklearn.naive_bayes import GaussianNB\n",
    "from sklearn.discriminant_analysis import LinearDiscriminantAnalysis\n",
    "from sklearn.linear_model import LogisticRegression\n",
    "from sklearn.metrics import accuracy_score"
   ]
  },
  {
   "cell_type": "code",
   "execution_count": 18,
   "id": "e6440d17",
   "metadata": {},
   "outputs": [],
   "source": [
    "data = load_breast_cancer()\n",
    "X = data.data\n",
    "y = data.target"
   ]
  },
  {
   "cell_type": "code",
   "execution_count": 19,
   "id": "9bd639cb",
   "metadata": {},
   "outputs": [
    {
     "data": {
      "text/plain": [
       "array([1.799e+01, 1.038e+01, 1.228e+02, 1.001e+03, 1.184e-01, 2.776e-01,\n",
       "       3.001e-01, 1.471e-01, 2.419e-01, 7.871e-02, 1.095e+00, 9.053e-01,\n",
       "       8.589e+00, 1.534e+02, 6.399e-03, 4.904e-02, 5.373e-02, 1.587e-02,\n",
       "       3.003e-02, 6.193e-03, 2.538e+01, 1.733e+01, 1.846e+02, 2.019e+03,\n",
       "       1.622e-01, 6.656e-01, 7.119e-01, 2.654e-01, 4.601e-01, 1.189e-01])"
      ]
     },
     "execution_count": 19,
     "metadata": {},
     "output_type": "execute_result"
    }
   ],
   "source": [
    "X[0]"
   ]
  },
  {
   "cell_type": "code",
   "execution_count": 20,
   "id": "f3b63477",
   "metadata": {},
   "outputs": [
    {
     "data": {
      "text/plain": [
       "array([0, 0, 0, 0, 0, 0, 0, 0, 0, 0, 0, 0, 0, 0, 0, 0, 0, 0, 0, 1, 1, 1,\n",
       "       0, 0, 0, 0, 0, 0, 0, 0, 0, 0, 0, 0, 0, 0, 0, 1, 0, 0, 0, 0, 0, 0,\n",
       "       0, 0, 1, 0, 1, 1, 1, 1, 1, 0, 0, 1, 0, 0, 1, 1, 1, 1, 0, 1, 0, 0,\n",
       "       1, 1, 1, 1, 0, 1, 0, 0, 1, 0, 1, 0, 0, 1, 1, 1, 0, 0, 1, 0, 0, 0,\n",
       "       1, 1, 1, 0, 1, 1, 0, 0, 1, 1, 1, 0, 0, 1, 1, 1, 1, 0, 1, 1, 0, 1,\n",
       "       1, 1, 1, 1, 1, 1, 1, 0, 0, 0, 1, 0, 0, 1, 1, 1, 0, 0, 1, 0, 1, 0,\n",
       "       0, 1, 0, 0, 1, 1, 0, 1, 1, 0, 1, 1, 1, 1, 0, 1, 1, 1, 1, 1, 1, 1,\n",
       "       1, 1, 0, 1, 1, 1, 1, 0, 0, 1, 0, 1, 1, 0, 0, 1, 1, 0, 0, 1, 1, 1,\n",
       "       1, 0, 1, 1, 0, 0, 0, 1, 0, 1, 0, 1, 1, 1, 0, 1, 1, 0, 0, 1, 0, 0,\n",
       "       0, 0, 1, 0, 0, 0, 1, 0, 1, 0, 1, 1, 0, 1, 0, 0, 0, 0, 1, 1, 0, 0,\n",
       "       1, 1, 1, 0, 1, 1, 1, 1, 1, 0, 0, 1, 1, 0, 1, 1, 0, 0, 1, 0, 1, 1,\n",
       "       1, 1, 0, 1, 1, 1, 1, 1, 0, 1, 0, 0, 0, 0, 0, 0, 0, 0, 0, 0, 0, 0,\n",
       "       0, 0, 1, 1, 1, 1, 1, 1, 0, 1, 0, 1, 1, 0, 1, 1, 0, 1, 0, 0, 1, 1,\n",
       "       1, 1, 1, 1, 1, 1, 1, 1, 1, 1, 1, 0, 1, 1, 0, 1, 0, 1, 1, 1, 1, 1,\n",
       "       1, 1, 1, 1, 1, 1, 1, 1, 1, 0, 1, 1, 1, 0, 1, 0, 1, 1, 1, 1, 0, 0,\n",
       "       0, 1, 1, 1, 1, 0, 1, 0, 1, 0, 1, 1, 1, 0, 1, 1, 1, 1, 1, 1, 1, 0,\n",
       "       0, 0, 1, 1, 1, 1, 1, 1, 1, 1, 1, 1, 1, 0, 0, 1, 0, 0, 0, 1, 0, 0,\n",
       "       1, 1, 1, 1, 1, 0, 1, 1, 1, 1, 1, 0, 1, 1, 1, 0, 1, 1, 0, 0, 1, 1,\n",
       "       1, 1, 1, 1, 0, 1, 1, 1, 1, 1, 1, 1, 0, 1, 1, 1, 1, 1, 0, 1, 1, 0,\n",
       "       1, 1, 1, 1, 1, 1, 1, 1, 1, 1, 1, 1, 0, 1, 0, 0, 1, 0, 1, 1, 1, 1,\n",
       "       1, 0, 1, 1, 0, 1, 0, 1, 1, 0, 1, 0, 1, 1, 1, 1, 1, 1, 1, 1, 0, 0,\n",
       "       1, 1, 1, 1, 1, 1, 0, 1, 1, 1, 1, 1, 1, 1, 1, 1, 1, 0, 1, 1, 1, 1,\n",
       "       1, 1, 1, 0, 1, 0, 1, 1, 0, 1, 1, 1, 1, 1, 0, 0, 1, 0, 1, 0, 1, 1,\n",
       "       1, 1, 1, 0, 1, 1, 0, 1, 0, 1, 0, 0, 1, 1, 1, 0, 1, 1, 1, 1, 1, 1,\n",
       "       1, 1, 1, 1, 1, 0, 1, 0, 0, 1, 1, 1, 1, 1, 1, 1, 1, 1, 1, 1, 1, 1,\n",
       "       1, 1, 1, 1, 1, 1, 1, 1, 1, 1, 1, 1, 0, 0, 0, 0, 0, 0, 1])"
      ]
     },
     "execution_count": 20,
     "metadata": {},
     "output_type": "execute_result"
    }
   ],
   "source": [
    "y"
   ]
  },
  {
   "cell_type": "markdown",
   "id": "cb027db7",
   "metadata": {},
   "source": [
    "Cargado el dataset y definidias nuestras variables a analizar, separamos los datos en Train y Test en una razón **80/20** para realizar las pruebas de precisión "
   ]
  },
  {
   "cell_type": "code",
   "execution_count": 21,
   "id": "8c164126",
   "metadata": {},
   "outputs": [],
   "source": [
    "X_train, X_test, y_train, y_test = train_test_split(X, y, test_size=0.2, random_state=42)"
   ]
  },
  {
   "cell_type": "markdown",
   "id": "83bdf260",
   "metadata": {},
   "source": [
    "### 2.1 NaiveBayes\n",
    "\n",
    "Este análisis se trata de un modelo de machine learning basado en el Teorema de Bayes que entrega la probabilidad de que ocurra A dado que B ha ocurrido.\n",
    "\n",
    "P(y|X) = (P(X|y)P(y)) / P(X)\n",
    "\n",
    "Recibe el nombre de \"naive\", porque asume que la presencia de una característica en particular no afecta la presencia de otras (independencia condicional de los predictores). El modelo también asume que los predictores X tienen el mismo efecto en el resultado.\n",
    "\n",
    "El valor que asume Y en la predicción es donde se maximiza la probabilidad P(y|X)"
   ]
  },
  {
   "cell_type": "code",
   "execution_count": 22,
   "id": "473bf962",
   "metadata": {},
   "outputs": [
    {
     "data": {
      "text/html": [
       "<style>#sk-container-id-2 {color: black;background-color: white;}#sk-container-id-2 pre{padding: 0;}#sk-container-id-2 div.sk-toggleable {background-color: white;}#sk-container-id-2 label.sk-toggleable__label {cursor: pointer;display: block;width: 100%;margin-bottom: 0;padding: 0.3em;box-sizing: border-box;text-align: center;}#sk-container-id-2 label.sk-toggleable__label-arrow:before {content: \"▸\";float: left;margin-right: 0.25em;color: #696969;}#sk-container-id-2 label.sk-toggleable__label-arrow:hover:before {color: black;}#sk-container-id-2 div.sk-estimator:hover label.sk-toggleable__label-arrow:before {color: black;}#sk-container-id-2 div.sk-toggleable__content {max-height: 0;max-width: 0;overflow: hidden;text-align: left;background-color: #f0f8ff;}#sk-container-id-2 div.sk-toggleable__content pre {margin: 0.2em;color: black;border-radius: 0.25em;background-color: #f0f8ff;}#sk-container-id-2 input.sk-toggleable__control:checked~div.sk-toggleable__content {max-height: 200px;max-width: 100%;overflow: auto;}#sk-container-id-2 input.sk-toggleable__control:checked~label.sk-toggleable__label-arrow:before {content: \"▾\";}#sk-container-id-2 div.sk-estimator input.sk-toggleable__control:checked~label.sk-toggleable__label {background-color: #d4ebff;}#sk-container-id-2 div.sk-label input.sk-toggleable__control:checked~label.sk-toggleable__label {background-color: #d4ebff;}#sk-container-id-2 input.sk-hidden--visually {border: 0;clip: rect(1px 1px 1px 1px);clip: rect(1px, 1px, 1px, 1px);height: 1px;margin: -1px;overflow: hidden;padding: 0;position: absolute;width: 1px;}#sk-container-id-2 div.sk-estimator {font-family: monospace;background-color: #f0f8ff;border: 1px dotted black;border-radius: 0.25em;box-sizing: border-box;margin-bottom: 0.5em;}#sk-container-id-2 div.sk-estimator:hover {background-color: #d4ebff;}#sk-container-id-2 div.sk-parallel-item::after {content: \"\";width: 100%;border-bottom: 1px solid gray;flex-grow: 1;}#sk-container-id-2 div.sk-label:hover label.sk-toggleable__label {background-color: #d4ebff;}#sk-container-id-2 div.sk-serial::before {content: \"\";position: absolute;border-left: 1px solid gray;box-sizing: border-box;top: 0;bottom: 0;left: 50%;z-index: 0;}#sk-container-id-2 div.sk-serial {display: flex;flex-direction: column;align-items: center;background-color: white;padding-right: 0.2em;padding-left: 0.2em;position: relative;}#sk-container-id-2 div.sk-item {position: relative;z-index: 1;}#sk-container-id-2 div.sk-parallel {display: flex;align-items: stretch;justify-content: center;background-color: white;position: relative;}#sk-container-id-2 div.sk-item::before, #sk-container-id-2 div.sk-parallel-item::before {content: \"\";position: absolute;border-left: 1px solid gray;box-sizing: border-box;top: 0;bottom: 0;left: 50%;z-index: -1;}#sk-container-id-2 div.sk-parallel-item {display: flex;flex-direction: column;z-index: 1;position: relative;background-color: white;}#sk-container-id-2 div.sk-parallel-item:first-child::after {align-self: flex-end;width: 50%;}#sk-container-id-2 div.sk-parallel-item:last-child::after {align-self: flex-start;width: 50%;}#sk-container-id-2 div.sk-parallel-item:only-child::after {width: 0;}#sk-container-id-2 div.sk-dashed-wrapped {border: 1px dashed gray;margin: 0 0.4em 0.5em 0.4em;box-sizing: border-box;padding-bottom: 0.4em;background-color: white;}#sk-container-id-2 div.sk-label label {font-family: monospace;font-weight: bold;display: inline-block;line-height: 1.2em;}#sk-container-id-2 div.sk-label-container {text-align: center;}#sk-container-id-2 div.sk-container {/* jupyter's `normalize.less` sets `[hidden] { display: none; }` but bootstrap.min.css set `[hidden] { display: none !important; }` so we also need the `!important` here to be able to override the default hidden behavior on the sphinx rendered scikit-learn.org. See: https://github.com/scikit-learn/scikit-learn/issues/21755 */display: inline-block !important;position: relative;}#sk-container-id-2 div.sk-text-repr-fallback {display: none;}</style><div id=\"sk-container-id-2\" class=\"sk-top-container\"><div class=\"sk-text-repr-fallback\"><pre>GaussianNB()</pre><b>In a Jupyter environment, please rerun this cell to show the HTML representation or trust the notebook. <br />On GitHub, the HTML representation is unable to render, please try loading this page with nbviewer.org.</b></div><div class=\"sk-container\" hidden><div class=\"sk-item\"><div class=\"sk-estimator sk-toggleable\"><input class=\"sk-toggleable__control sk-hidden--visually\" id=\"sk-estimator-id-2\" type=\"checkbox\" checked><label for=\"sk-estimator-id-2\" class=\"sk-toggleable__label sk-toggleable__label-arrow\">GaussianNB</label><div class=\"sk-toggleable__content\"><pre>GaussianNB()</pre></div></div></div></div></div>"
      ],
      "text/plain": [
       "GaussianNB()"
      ]
     },
     "execution_count": 22,
     "metadata": {},
     "output_type": "execute_result"
    }
   ],
   "source": [
    "naive_bayes = GaussianNB()\n",
    "naive_bayes.fit(X_train, y_train)"
   ]
  },
  {
   "cell_type": "code",
   "execution_count": 23,
   "id": "c35442ce",
   "metadata": {},
   "outputs": [],
   "source": [
    "nb_pred = naive_bayes.predict(X_test)"
   ]
  },
  {
   "cell_type": "code",
   "execution_count": 24,
   "id": "7d629f72",
   "metadata": {},
   "outputs": [
    {
     "data": {
      "text/plain": [
       "Text(110.44999999999997, 0.5, 'predicted label')"
      ]
     },
     "execution_count": 24,
     "metadata": {},
     "output_type": "execute_result"
    },
    {
     "data": {
      "image/png": "[encoded data removed]",
      "text/plain": [
       "<Figure size 640x480 with 1 Axes>"
      ]
     },
     "metadata": {},
     "output_type": "display_data"
    }
   ],
   "source": [
    "mat = confusion_matrix(y_test, nb_pred)\n",
    "sns.heatmap(mat.T, square=True, annot=True, fmt='d', cbar=False,\n",
    "            xticklabels=load_breast_cancer().target_names, yticklabels=load_breast_cancer().target_names,\n",
    "            cmap='OrRd')\n",
    "\n",
    "plt.xlabel('true label')\n",
    "plt.ylabel('predicted label')"
   ]
  },
  {
   "cell_type": "code",
   "execution_count": 25,
   "id": "520f53ba",
   "metadata": {},
   "outputs": [
    {
     "name": "stdout",
     "output_type": "stream",
     "text": [
      "Precisión de Naive Bayes: 0.9736842105263158\n"
     ]
    }
   ],
   "source": [
    "nb_accuracy = accuracy_score(y_test, nb_pred)\n",
    "print(\"Precisión de Naive Bayes:\", nb_accuracy)"
   ]
  },
  {
   "cell_type": "code",
   "execution_count": 26,
   "id": "248f2bca",
   "metadata": {},
   "outputs": [
    {
     "data": {
      "text/plain": [
       "(1.0, 0.9594594594594594)"
      ]
     },
     "execution_count": 26,
     "metadata": {},
     "output_type": "execute_result"
    }
   ],
   "source": [
    "recall_score(y_test, nb_pred), precision_score(y_test, nb_pred)"
   ]
  },
  {
   "cell_type": "code",
   "execution_count": 27,
   "id": "6efd4b23",
   "metadata": {},
   "outputs": [
    {
     "data": {
      "text/plain": [
       "0.9793103448275862"
      ]
     },
     "execution_count": 27,
     "metadata": {},
     "output_type": "execute_result"
    }
   ],
   "source": [
    "f1_score(y_test, nb_pred)"
   ]
  },
  {
   "cell_type": "markdown",
   "id": "0d9e9a32",
   "metadata": {},
   "source": [
    "Esto sugiere que el modelo es capaz de clasificar correctamente tanto los positivos como los negativos de manera muy efectiva."
   ]
  },
  {
   "cell_type": "markdown",
   "id": "1981c62b",
   "metadata": {},
   "source": [
    "### 2.2 Análisis de Discriminante\n",
    "\n",
    "El análisis de discriminante lineal es una técnica de clasificación y de reducción de dimensiones. Por el lado de la clasificación, se busca una combinación lineal de las características que maximiza la distancia entre las medias de las clases y minimiza la variabilidad dentro de cada clase. Esto quiere decir que proyecta las características originales en un espacio de menor dimensión y usa dicha proyección para clasificar nuevas instancias.\n",
    "\n",
    "Por el lado de la deducción de dimensiones, se proyectan las características originales en un espacio de menor dimensión, lo que ayuda a tener la mayor cantidad posible de la variabilidad entre las clases."
   ]
  },
  {
   "cell_type": "code",
   "execution_count": 28,
   "id": "9512cda3",
   "metadata": {},
   "outputs": [
    {
     "data": {
      "text/html": [
       "<style>#sk-container-id-3 {color: black;background-color: white;}#sk-container-id-3 pre{padding: 0;}#sk-container-id-3 div.sk-toggleable {background-color: white;}#sk-container-id-3 label.sk-toggleable__label {cursor: pointer;display: block;width: 100%;margin-bottom: 0;padding: 0.3em;box-sizing: border-box;text-align: center;}#sk-container-id-3 label.sk-toggleable__label-arrow:before {content: \"▸\";float: left;margin-right: 0.25em;color: #696969;}#sk-container-id-3 label.sk-toggleable__label-arrow:hover:before {color: black;}#sk-container-id-3 div.sk-estimator:hover label.sk-toggleable__label-arrow:before {color: black;}#sk-container-id-3 div.sk-toggleable__content {max-height: 0;max-width: 0;overflow: hidden;text-align: left;background-color: #f0f8ff;}#sk-container-id-3 div.sk-toggleable__content pre {margin: 0.2em;color: black;border-radius: 0.25em;background-color: #f0f8ff;}#sk-container-id-3 input.sk-toggleable__control:checked~div.sk-toggleable__content {max-height: 200px;max-width: 100%;overflow: auto;}#sk-container-id-3 input.sk-toggleable__control:checked~label.sk-toggleable__label-arrow:before {content: \"▾\";}#sk-container-id-3 div.sk-estimator input.sk-toggleable__control:checked~label.sk-toggleable__label {background-color: #d4ebff;}#sk-container-id-3 div.sk-label input.sk-toggleable__control:checked~label.sk-toggleable__label {background-color: #d4ebff;}#sk-container-id-3 input.sk-hidden--visually {border: 0;clip: rect(1px 1px 1px 1px);clip: rect(1px, 1px, 1px, 1px);height: 1px;margin: -1px;overflow: hidden;padding: 0;position: absolute;width: 1px;}#sk-container-id-3 div.sk-estimator {font-family: monospace;background-color: #f0f8ff;border: 1px dotted black;border-radius: 0.25em;box-sizing: border-box;margin-bottom: 0.5em;}#sk-container-id-3 div.sk-estimator:hover {background-color: #d4ebff;}#sk-container-id-3 div.sk-parallel-item::after {content: \"\";width: 100%;border-bottom: 1px solid gray;flex-grow: 1;}#sk-container-id-3 div.sk-label:hover label.sk-toggleable__label {background-color: #d4ebff;}#sk-container-id-3 div.sk-serial::before {content: \"\";position: absolute;border-left: 1px solid gray;box-sizing: border-box;top: 0;bottom: 0;left: 50%;z-index: 0;}#sk-container-id-3 div.sk-serial {display: flex;flex-direction: column;align-items: center;background-color: white;padding-right: 0.2em;padding-left: 0.2em;position: relative;}#sk-container-id-3 div.sk-item {position: relative;z-index: 1;}#sk-container-id-3 div.sk-parallel {display: flex;align-items: stretch;justify-content: center;background-color: white;position: relative;}#sk-container-id-3 div.sk-item::before, #sk-container-id-3 div.sk-parallel-item::before {content: \"\";position: absolute;border-left: 1px solid gray;box-sizing: border-box;top: 0;bottom: 0;left: 50%;z-index: -1;}#sk-container-id-3 div.sk-parallel-item {display: flex;flex-direction: column;z-index: 1;position: relative;background-color: white;}#sk-container-id-3 div.sk-parallel-item:first-child::after {align-self: flex-end;width: 50%;}#sk-container-id-3 div.sk-parallel-item:last-child::after {align-self: flex-start;width: 50%;}#sk-container-id-3 div.sk-parallel-item:only-child::after {width: 0;}#sk-container-id-3 div.sk-dashed-wrapped {border: 1px dashed gray;margin: 0 0.4em 0.5em 0.4em;box-sizing: border-box;padding-bottom: 0.4em;background-color: white;}#sk-container-id-3 div.sk-label label {font-family: monospace;font-weight: bold;display: inline-block;line-height: 1.2em;}#sk-container-id-3 div.sk-label-container {text-align: center;}#sk-container-id-3 div.sk-container {/* jupyter's `normalize.less` sets `[hidden] { display: none; }` but bootstrap.min.css set `[hidden] { display: none !important; }` so we also need the `!important` here to be able to override the default hidden behavior on the sphinx rendered scikit-learn.org. See: https://github.com/scikit-learn/scikit-learn/issues/21755 */display: inline-block !important;position: relative;}#sk-container-id-3 div.sk-text-repr-fallback {display: none;}</style><div id=\"sk-container-id-3\" class=\"sk-top-container\"><div class=\"sk-text-repr-fallback\"><pre>LinearDiscriminantAnalysis()</pre><b>In a Jupyter environment, please rerun this cell to show the HTML representation or trust the notebook. <br />On GitHub, the HTML representation is unable to render, please try loading this page with nbviewer.org.</b></div><div class=\"sk-container\" hidden><div class=\"sk-item\"><div class=\"sk-estimator sk-toggleable\"><input class=\"sk-toggleable__control sk-hidden--visually\" id=\"sk-estimator-id-3\" type=\"checkbox\" checked><label for=\"sk-estimator-id-3\" class=\"sk-toggleable__label sk-toggleable__label-arrow\">LinearDiscriminantAnalysis</label><div class=\"sk-toggleable__content\"><pre>LinearDiscriminantAnalysis()</pre></div></div></div></div></div>"
      ],
      "text/plain": [
       "LinearDiscriminantAnalysis()"
      ]
     },
     "execution_count": 28,
     "metadata": {},
     "output_type": "execute_result"
    }
   ],
   "source": [
    "discriminant_analysis = LinearDiscriminantAnalysis()\n",
    "discriminant_analysis.fit(X_train, y_train)"
   ]
  },
  {
   "cell_type": "markdown",
   "id": "3ecd4cc1",
   "metadata": {},
   "source": [
    "Ahora haremos la evaluación del conjunto de entrnamiento y revisaremos la matriz para constatar que el modelo no esté sobreajustando."
   ]
  },
  {
   "cell_type": "code",
   "execution_count": 29,
   "id": "53e5ab7e",
   "metadata": {},
   "outputs": [],
   "source": [
    "da_predTr = discriminant_analysis.predict(X_train)"
   ]
  },
  {
   "cell_type": "code",
   "execution_count": 30,
   "id": "8c79f0c3",
   "metadata": {},
   "outputs": [
    {
     "data": {
      "text/plain": [
       "array([[153,   0],\n",
       "       [ 16, 286]], dtype=int64)"
      ]
     },
     "execution_count": 30,
     "metadata": {},
     "output_type": "execute_result"
    }
   ],
   "source": [
    "confusion_matrix(da_predTr, y_train)"
   ]
  },
  {
   "cell_type": "code",
   "execution_count": 31,
   "id": "5ae96577",
   "metadata": {},
   "outputs": [
    {
     "data": {
      "text/plain": [
       "Text(110.44999999999997, 0.5, 'predicted label')"
      ]
     },
     "execution_count": 31,
     "metadata": {},
     "output_type": "execute_result"
    },
    {
     "data": {
      "image/png": "[encoded data removed]",
      "text/plain": [
       "<Figure size 640x480 with 1 Axes>"
      ]
     },
     "metadata": {},
     "output_type": "display_data"
    }
   ],
   "source": [
    "mat2 = confusion_matrix(da_predTr, y_train)\n",
    "sns.heatmap(mat2.T, square=True, annot=True, fmt='d', cbar=False,\n",
    "            xticklabels=load_breast_cancer().target_names, yticklabels=load_breast_cancer().target_names,\n",
    "            cmap='OrRd')\n",
    "\n",
    "plt.xlabel('true label')\n",
    "plt.ylabel('predicted label')"
   ]
  },
  {
   "cell_type": "markdown",
   "id": "34fa9a2e",
   "metadata": {},
   "source": [
    "En primera instancia se ve todo bien.  Ahora falta compararla con la matriz de confusión del conjunto de testeo para verificar que esté todo correcto."
   ]
  },
  {
   "cell_type": "code",
   "execution_count": 32,
   "id": "03e20e73",
   "metadata": {},
   "outputs": [],
   "source": [
    "da_predTe = discriminant_analysis.predict(X_test)"
   ]
  },
  {
   "cell_type": "code",
   "execution_count": 33,
   "id": "697ec0c8",
   "metadata": {},
   "outputs": [
    {
     "data": {
      "text/plain": [
       "array([[39,  1],\n",
       "       [ 4, 70]], dtype=int64)"
      ]
     },
     "execution_count": 33,
     "metadata": {},
     "output_type": "execute_result"
    }
   ],
   "source": [
    "confusion_matrix(da_predTe, y_test)"
   ]
  },
  {
   "cell_type": "code",
   "execution_count": 34,
   "id": "4252ef8c",
   "metadata": {},
   "outputs": [
    {
     "data": {
      "text/plain": [
       "Text(110.44999999999997, 0.5, 'predicted label')"
      ]
     },
     "execution_count": 34,
     "metadata": {},
     "output_type": "execute_result"
    },
    {
     "data": {
      "image/png": "[encoded data removed]",
      "text/plain": [
       "<Figure size 640x480 with 1 Axes>"
      ]
     },
     "metadata": {},
     "output_type": "display_data"
    }
   ],
   "source": [
    "mat3 = confusion_matrix(da_predTe, y_test)\n",
    "sns.heatmap(mat3.T, square=True, annot=True, fmt='d', cbar=False,\n",
    "            xticklabels=load_breast_cancer().target_names, yticklabels=load_breast_cancer().target_names,\n",
    "            cmap='OrRd')\n",
    "\n",
    "plt.xlabel('true label')\n",
    "plt.ylabel('predicted label')"
   ]
  },
  {
   "cell_type": "code",
   "execution_count": 35,
   "id": "33ab8df7",
   "metadata": {},
   "outputs": [
    {
     "name": "stdout",
     "output_type": "stream",
     "text": [
      "Tasa de aciertos en el conjunto de entrenamiento: 0.9648351648351648\n",
      "Tasa de error en el conjunto de entrenamiento: 0.035164835164835165\n"
     ]
    }
   ],
   "source": [
    "cm_train = confusion_matrix(da_predTr, y_train)\n",
    "\n",
    "TN_train, FP_train, FN_train, TP_train = cm_train.ravel()\n",
    "\n",
    "accuracy_train = (TP_train + TN_train) / (TP_train + TN_train + FP_train + FN_train)\n",
    "error_rate_train = (FP_train + FN_train) / (TP_train + TN_train + FP_train + FN_train)\n",
    "\n",
    "print(f\"Tasa de aciertos en el conjunto de entrenamiento: {accuracy_train}\")\n",
    "print(f\"Tasa de error en el conjunto de entrenamiento: {error_rate_train}\")"
   ]
  },
  {
   "cell_type": "code",
   "execution_count": 36,
   "id": "fd611c30",
   "metadata": {},
   "outputs": [
    {
     "name": "stdout",
     "output_type": "stream",
     "text": [
      "Tasa de aciertos en el conjunto de prueba: 0.956140350877193\n",
      "Tasa de error en el conjunto de prueba: 0.043859649122807015\n"
     ]
    }
   ],
   "source": [
    "cm_test = confusion_matrix(da_predTe, y_test)\n",
    "\n",
    "TN_test, FP_test, FN_test, TP_test = cm_test.ravel()\n",
    "\n",
    "accuracy_test = (TP_test + TN_test) / (TP_test + TN_test + FP_test + FN_test)\n",
    "error_rate_test = (FP_test + FN_test) / (TP_test + TN_test + FP_test + FN_test)\n",
    "\n",
    "print(f\"Tasa de aciertos en el conjunto de prueba: {accuracy_test}\")\n",
    "print(f\"Tasa de error en el conjunto de prueba: {error_rate_test}\")"
   ]
  },
  {
   "cell_type": "markdown",
   "id": "62013c0b",
   "metadata": {},
   "source": [
    "Una vez realizado los testeos del modelo, podemos evaluar los resultados obtenidos.\n",
    "\n",
    "**Conjunto de Entrenamiento:**\n",
    "\n",
    "* Tasa de aciertos: 96.48%\n",
    "* Tasa de error: 3.52%\n",
    "\n",
    "**Conjunto de Prueba:**\n",
    "\n",
    "* Tasa de aciertos: **95.61%**\n",
    "* Tasa de error: 4.39%\n",
    "\n",
    "Basándonos en los resultados obtenidos, podemos inferir que el modelo de Análisis Discriminante está bien ajustado para este problema de clasificación. La diferencia entre las tasas de aciertos en el conjunto de entrenamiento y el conjunto de prueba es pequeña, lo que indica que el modelo está generalizando bien a datos no vistos. Además, los errores en ambos conjuntos son bajos, lo que sugiere que el modelo está capturando efectivamente la relación entre las características y la variable objetivo.\n",
    "\n",
    "Dado que no hay signos de sobreajuste ni subajuste, no se considera necesario realizar ajustes adicionales (fine-tuning)."
   ]
  },
  {
   "cell_type": "markdown",
   "id": "d9d9fa02",
   "metadata": {},
   "source": [
    "### 2.3 Regresión Logística\n",
    "\n",
    "Este tipo de regresión tiene como variable dependiente una variable dicotómica, de modo que el ensayo toma uno de los valores explicados por las variables independientes X. En definitiva, se modela el logaritmo de la razón de chances Pi/(1-Pi), tal que:\n",
    "\n",
    "logit (Pi) = B0 + B1X1+...+BkXk\n",
    "\n",
    "Donde el ajuste de los parámetros beta se hace a través de máxima verosimilitud."
   ]
  },
  {
   "cell_type": "code",
   "execution_count": 37,
   "id": "86743064",
   "metadata": {},
   "outputs": [
    {
     "name": "stderr",
     "output_type": "stream",
     "text": [
      "C:\\Users\\Ariel\\anaconda3\\Lib\\site-packages\\sklearn\\linear_model\\_logistic.py:458: ConvergenceWarning: lbfgs failed to converge (status=1):\n",
      "STOP: TOTAL NO. of ITERATIONS REACHED LIMIT.\n",
      "\n",
      "Increase the number of iterations (max_iter) or scale the data as shown in:\n",
      "    https://scikit-learn.org/stable/modules/preprocessing.html\n",
      "Please also refer to the documentation for alternative solver options:\n",
      "    https://scikit-learn.org/stable/modules/linear_model.html#logistic-regression\n",
      "  n_iter_i = _check_optimize_result(\n"
     ]
    },
    {
     "data": {
      "text/html": [
       "<style>#sk-container-id-4 {color: black;background-color: white;}#sk-container-id-4 pre{padding: 0;}#sk-container-id-4 div.sk-toggleable {background-color: white;}#sk-container-id-4 label.sk-toggleable__label {cursor: pointer;display: block;width: 100%;margin-bottom: 0;padding: 0.3em;box-sizing: border-box;text-align: center;}#sk-container-id-4 label.sk-toggleable__label-arrow:before {content: \"▸\";float: left;margin-right: 0.25em;color: #696969;}#sk-container-id-4 label.sk-toggleable__label-arrow:hover:before {color: black;}#sk-container-id-4 div.sk-estimator:hover label.sk-toggleable__label-arrow:before {color: black;}#sk-container-id-4 div.sk-toggleable__content {max-height: 0;max-width: 0;overflow: hidden;text-align: left;background-color: #f0f8ff;}#sk-container-id-4 div.sk-toggleable__content pre {margin: 0.2em;color: black;border-radius: 0.25em;background-color: #f0f8ff;}#sk-container-id-4 input.sk-toggleable__control:checked~div.sk-toggleable__content {max-height: 200px;max-width: 100%;overflow: auto;}#sk-container-id-4 input.sk-toggleable__control:checked~label.sk-toggleable__label-arrow:before {content: \"▾\";}#sk-container-id-4 div.sk-estimator input.sk-toggleable__control:checked~label.sk-toggleable__label {background-color: #d4ebff;}#sk-container-id-4 div.sk-label input.sk-toggleable__control:checked~label.sk-toggleable__label {background-color: #d4ebff;}#sk-container-id-4 input.sk-hidden--visually {border: 0;clip: rect(1px 1px 1px 1px);clip: rect(1px, 1px, 1px, 1px);height: 1px;margin: -1px;overflow: hidden;padding: 0;position: absolute;width: 1px;}#sk-container-id-4 div.sk-estimator {font-family: monospace;background-color: #f0f8ff;border: 1px dotted black;border-radius: 0.25em;box-sizing: border-box;margin-bottom: 0.5em;}#sk-container-id-4 div.sk-estimator:hover {background-color: #d4ebff;}#sk-container-id-4 div.sk-parallel-item::after {content: \"\";width: 100%;border-bottom: 1px solid gray;flex-grow: 1;}#sk-container-id-4 div.sk-label:hover label.sk-toggleable__label {background-color: #d4ebff;}#sk-container-id-4 div.sk-serial::before {content: \"\";position: absolute;border-left: 1px solid gray;box-sizing: border-box;top: 0;bottom: 0;left: 50%;z-index: 0;}#sk-container-id-4 div.sk-serial {display: flex;flex-direction: column;align-items: center;background-color: white;padding-right: 0.2em;padding-left: 0.2em;position: relative;}#sk-container-id-4 div.sk-item {position: relative;z-index: 1;}#sk-container-id-4 div.sk-parallel {display: flex;align-items: stretch;justify-content: center;background-color: white;position: relative;}#sk-container-id-4 div.sk-item::before, #sk-container-id-4 div.sk-parallel-item::before {content: \"\";position: absolute;border-left: 1px solid gray;box-sizing: border-box;top: 0;bottom: 0;left: 50%;z-index: -1;}#sk-container-id-4 div.sk-parallel-item {display: flex;flex-direction: column;z-index: 1;position: relative;background-color: white;}#sk-container-id-4 div.sk-parallel-item:first-child::after {align-self: flex-end;width: 50%;}#sk-container-id-4 div.sk-parallel-item:last-child::after {align-self: flex-start;width: 50%;}#sk-container-id-4 div.sk-parallel-item:only-child::after {width: 0;}#sk-container-id-4 div.sk-dashed-wrapped {border: 1px dashed gray;margin: 0 0.4em 0.5em 0.4em;box-sizing: border-box;padding-bottom: 0.4em;background-color: white;}#sk-container-id-4 div.sk-label label {font-family: monospace;font-weight: bold;display: inline-block;line-height: 1.2em;}#sk-container-id-4 div.sk-label-container {text-align: center;}#sk-container-id-4 div.sk-container {/* jupyter's `normalize.less` sets `[hidden] { display: none; }` but bootstrap.min.css set `[hidden] { display: none !important; }` so we also need the `!important` here to be able to override the default hidden behavior on the sphinx rendered scikit-learn.org. See: https://github.com/scikit-learn/scikit-learn/issues/21755 */display: inline-block !important;position: relative;}#sk-container-id-4 div.sk-text-repr-fallback {display: none;}</style><div id=\"sk-container-id-4\" class=\"sk-top-container\"><div class=\"sk-text-repr-fallback\"><pre>LogisticRegression(max_iter=10000, penalty=None)</pre><b>In a Jupyter environment, please rerun this cell to show the HTML representation or trust the notebook. <br />On GitHub, the HTML representation is unable to render, please try loading this page with nbviewer.org.</b></div><div class=\"sk-container\" hidden><div class=\"sk-item\"><div class=\"sk-estimator sk-toggleable\"><input class=\"sk-toggleable__control sk-hidden--visually\" id=\"sk-estimator-id-4\" type=\"checkbox\" checked><label for=\"sk-estimator-id-4\" class=\"sk-toggleable__label sk-toggleable__label-arrow\">LogisticRegression</label><div class=\"sk-toggleable__content\"><pre>LogisticRegression(max_iter=10000, penalty=None)</pre></div></div></div></div></div>"
      ],
      "text/plain": [
       "LogisticRegression(max_iter=10000, penalty=None)"
      ]
     },
     "execution_count": 37,
     "metadata": {},
     "output_type": "execute_result"
    }
   ],
   "source": [
    "logistic_regression = LogisticRegression(penalty =None , max_iter=10000)\n",
    "logistic_regression.fit(X_train, y_train)"
   ]
  },
  {
   "cell_type": "code",
   "execution_count": 38,
   "id": "71c33ff8",
   "metadata": {},
   "outputs": [],
   "source": [
    "lr_pred = logistic_regression.predict(X_test)"
   ]
  },
  {
   "cell_type": "code",
   "execution_count": 39,
   "id": "49c3ffe0",
   "metadata": {},
   "outputs": [
    {
     "name": "stdout",
     "output_type": "stream",
     "text": [
      "Precisión de Regresión Logística: 0.9912280701754386\n"
     ]
    }
   ],
   "source": [
    "lr_accuracy = accuracy_score(y_test, lr_pred)\n",
    "print(\"Precisión de Regresión Logística:\", lr_accuracy)"
   ]
  },
  {
   "cell_type": "code",
   "execution_count": 52,
   "id": "cdaf9d31",
   "metadata": {},
   "outputs": [
    {
     "data": {
      "text/plain": [
       "Text(110.44999999999997, 0.5, 'predicted label')"
      ]
     },
     "execution_count": 52,
     "metadata": {},
     "output_type": "execute_result"
    },
    {
     "data": {
      "image/png": "[encoded data removed]",
      "text/plain": [
       "<Figure size 640x480 with 1 Axes>"
      ]
     },
     "metadata": {},
     "output_type": "display_data"
    }
   ],
   "source": [
    "mat4 = confusion_matrix(y_test, lr_pred)\n",
    "sns.heatmap(mat4.T, square=True, annot=True, fmt='d', cbar=False,\n",
    "            xticklabels=load_breast_cancer().target_names, yticklabels=load_breast_cancer().target_names,\n",
    "            cmap='OrRd')\n",
    "\n",
    "plt.xlabel('true label')\n",
    "plt.ylabel('predicted label')"
   ]
  },
  {
   "cell_type": "markdown",
   "id": "88ffc8bd",
   "metadata": {},
   "source": [
    "Evaluamos la estabilidad del modelo con una validación cruzada de 5 divisiones:"
   ]
  },
  {
   "cell_type": "code",
   "execution_count": 40,
   "id": "02443800",
   "metadata": {},
   "outputs": [
    {
     "name": "stdout",
     "output_type": "stream",
     "text": [
      "Precisión de Validación Cruzada: [0.95604396 0.94505495 1.         0.97802198 0.93406593]\n",
      "Precisión Media: 0.9626373626373625\n"
     ]
    },
    {
     "name": "stderr",
     "output_type": "stream",
     "text": [
      "C:\\Users\\Ariel\\anaconda3\\Lib\\site-packages\\sklearn\\linear_model\\_logistic.py:458: ConvergenceWarning: lbfgs failed to converge (status=1):\n",
      "STOP: TOTAL NO. of ITERATIONS REACHED LIMIT.\n",
      "\n",
      "Increase the number of iterations (max_iter) or scale the data as shown in:\n",
      "    https://scikit-learn.org/stable/modules/preprocessing.html\n",
      "Please also refer to the documentation for alternative solver options:\n",
      "    https://scikit-learn.org/stable/modules/linear_model.html#logistic-regression\n",
      "  n_iter_i = _check_optimize_result(\n"
     ]
    }
   ],
   "source": [
    "cv_scores = cross_val_score(logistic_regression, X_train, y_train, cv=5) \n",
    "\n",
    "print(\"Precisión de Validación Cruzada:\", cv_scores)\n",
    "print(\"Precisión Media:\", cv_scores.mean())"
   ]
  },
  {
   "cell_type": "markdown",
   "id": "c342bc19",
   "metadata": {},
   "source": [
    "En promedio, el modelo de regresión logística alcanza una precisión del 96.26% en este conjunto de datos cuando se utiliza validación cruzada de 5 divisiones.  Lo anterior nos dice que tenemos un modelo de buen rendimiento (estable)."
   ]
  },
  {
   "cell_type": "markdown",
   "id": "0bf86699",
   "metadata": {},
   "source": [
    "### 2.4 Comparación"
   ]
  },
  {
   "cell_type": "markdown",
   "id": "e8ba4c4e",
   "metadata": {},
   "source": [
    "Para poder elegir cuál es el modelo más preciso utilizaremos dos métodos distintos:\n",
    "\n",
    "* Accuracy Score\n",
    "* F1 Score\n",
    "* Recall Score (como principal determinante dado el contexto de los datos)\n",
    "\n",
    "#### Accuracy Score"
   ]
  },
  {
   "cell_type": "code",
   "execution_count": null,
   "id": "7959f4eb",
   "metadata": {},
   "outputs": [],
   "source": [
    "print(\"Precisión de Naive Bayes:\", nb_accuracy)\n",
    "print(\"Precisión de Análisis Discriminante:\", da_accuracy)\n",
    "print(\"Precisión de Regresión Logística:\", lr_accuracy)"
   ]
  },
  {
   "cell_type": "markdown",
   "id": "72d9f742",
   "metadata": {},
   "source": [
    "Los modelos que realizan una mejor predicción en terminos de precisión (Accuracy) son **Naive Bayes** y **Regresión Logística**."
   ]
  },
  {
   "cell_type": "markdown",
   "id": "0bbc4bbc",
   "metadata": {},
   "source": [
    "#### Recall Score"
   ]
  },
  {
   "cell_type": "code",
   "execution_count": 44,
   "id": "f11c6ed2",
   "metadata": {},
   "outputs": [
    {
     "data": {
      "text/plain": [
       "1.0"
      ]
     },
     "execution_count": 44,
     "metadata": {},
     "output_type": "execute_result"
    }
   ],
   "source": [
    "recall_score(y_test, nb_pred)"
   ]
  },
  {
   "cell_type": "code",
   "execution_count": 45,
   "id": "8bb36942",
   "metadata": {},
   "outputs": [
    {
     "data": {
      "text/plain": [
       "0.9459459459459459"
      ]
     },
     "execution_count": 45,
     "metadata": {},
     "output_type": "execute_result"
    }
   ],
   "source": [
    "recall_score(da_predTe, y_test)"
   ]
  },
  {
   "cell_type": "code",
   "execution_count": 46,
   "id": "59435ffa",
   "metadata": {},
   "outputs": [
    {
     "data": {
      "text/plain": [
       "1.0"
      ]
     },
     "execution_count": 46,
     "metadata": {},
     "output_type": "execute_result"
    }
   ],
   "source": [
    "recall_score(y_test, lr_pred)"
   ]
  },
  {
   "cell_type": "markdown",
   "id": "7577460d",
   "metadata": {},
   "source": [
    "#### F1 Score"
   ]
  },
  {
   "cell_type": "code",
   "execution_count": 47,
   "id": "2bc557da",
   "metadata": {},
   "outputs": [
    {
     "data": {
      "text/plain": [
       "0.9793103448275862"
      ]
     },
     "execution_count": 47,
     "metadata": {},
     "output_type": "execute_result"
    }
   ],
   "source": [
    "f1_score(y_test, nb_pred)"
   ]
  },
  {
   "cell_type": "code",
   "execution_count": 48,
   "id": "901c6ef2",
   "metadata": {},
   "outputs": [
    {
     "data": {
      "text/plain": [
       "0.9655172413793103"
      ]
     },
     "execution_count": 48,
     "metadata": {},
     "output_type": "execute_result"
    }
   ],
   "source": [
    "f1_score(da_predTe, y_test)"
   ]
  },
  {
   "cell_type": "code",
   "execution_count": 49,
   "id": "8fefb778",
   "metadata": {},
   "outputs": [
    {
     "data": {
      "text/plain": [
       "0.993006993006993"
      ]
     },
     "execution_count": 49,
     "metadata": {},
     "output_type": "execute_result"
    }
   ],
   "source": [
    "f1_score(y_test, lr_pred)"
   ]
  },
  {
   "cell_type": "markdown",
   "id": "60fc9bdb",
   "metadata": {},
   "source": [
    "Si bien la diferencia entre Naive Bayes y Regresión logística es muy pequeña, el primero es mayor por algunas decimas lo que nos lleva a seleccionarlo cómo el modelo más preciso."
   ]
  },
  {
   "cell_type": "markdown",
   "id": "ae8075ff",
   "metadata": {},
   "source": [
    "### Algo de argumentación:\n",
    "\n",
    "Como se pudo notar a lo largo del análisis, los tres modelos revisados otorgaron un rendimiento bastante bueno en terminios de predicción.  Dicho esto, se realizaron los estudios con los siguientes hiperparámetros:\n",
    "\n",
    "* Naive Bayes: Alpha = 0 (predeterminado por sk learn)\n",
    "* Regresión logística: Sin penalización\n",
    "* Análisis discriminantes: Por defecto (sklearn)\n",
    "\n",
    "Adicionalmente y dado los resultados de los modelos, no fue necesario realizar fine-tuning (entendido como el ajuste de hiperparametros) exceptuando en la Regresión logística."
   ]
  },
  {
   "cell_type": "markdown",
   "id": "d17f8d98",
   "metadata": {},
   "source": [
    "### Conclusión 2:\n",
    "\n",
    "Después de realizar las pruebas para evaluar la precisión de los tres modelos, se concluye en primera instancia que el modelo **Naive Bayes** es el más adecuado para los datos procesados. Esta decisión se basa en la importancia del RECALL, una de las métricas cruciales en el ámbito médico, especialmente en el análisis de casos de cáncer. Es vital maximizar la detección de casos reales de cáncer.\n",
    "\n",
    "Tanto Naive Bayes como Regresión Logística tienen un recall de 1, lo que indica que ambos identifican correctamente los casos de cáncer, Naive Bayes destaca al superar ligeramente a los otros modelos en el F1-score. Esto sugiere que el modelo logra un mejor equilibrio entre precisión y recall, lo cual es esencial en situaciones donde los falsos positivos y falsos negativos tienen implicaciones críticas.\n",
    "\n",
    "En el contexto médico del cáncer de mamas, es crucial tener en cuenta la importancia de revisar la cantidad de casos predichos como benignos que resultan ser malignos, lo cual podría considerarse como el escenario más crítico. Por ello, la regresión logística cobra un significado considerable, ya que es el modelo que exhibe la menor tasa de Falsos Positivos (FP).\n",
    "\n",
    "Por tanto, a pesar de que Naive Bayes muestra una ligera ventaja en términos de validación, dadas las mínimas diferencias con otros modelos y en el contexto específico que nos concierne, la elección del mejor modelo recae en la **Regresión Logística**.\n",
    "\n",
    "### Mejor predicción: Regresión Logística."
   ]
  },
  {
   "cell_type": "code",
   "execution_count": null,
   "id": "7e2aea74",
   "metadata": {},
   "outputs": [],
   "source": []
  }
 ],
 "metadata": {
  "kernelspec": {
   "display_name": "Python 3 (ipykernel)",
   "language": "python",
   "name": "python3"
  },
  "language_info": {
   "codemirror_mode": {
    "name": "ipython",
    "version": 3
   },
   "file_extension": ".py",
   "mimetype": "text/x-python",
   "name": "python",
   "nbconvert_exporter": "python",
   "pygments_lexer": "ipython3",
   "version": "3.11.4"
  }
 },
 "nbformat": 4,
 "nbformat_minor": 5
}
